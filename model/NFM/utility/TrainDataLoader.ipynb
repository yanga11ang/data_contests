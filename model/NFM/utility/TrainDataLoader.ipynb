{
 "cells": [
  {
   "cell_type": "code",
   "execution_count": 33,
   "metadata": {},
   "outputs": [],
   "source": [
    "import os\n",
    "import numpy as np\n",
    "import pandas as pd\n",
    "import torch\n",
    "class TrainDataLoader(object):\n",
    "    def __init__(self, file_path=\"../data/contest_data/train_data1.csv\",\n",
    "                 rain_cols_cols=[\"Rain_sum\"],\n",
    "                 environment_cols=['T','w','wd'],\n",
    "                 target_cols=[\"Qi\"]):\n",
    "\n",
    "        self.rain_cols = rain_cols_cols\n",
    "        self.environment_cols = environment_cols\n",
    "        self.target_cols = target_cols\n",
    "        data = pd.read_csv(file_path)\n",
    "        n_weeks = 4  # 可调\n",
    "        n_input = n_weeks * 7 * 8\n",
    "        n_out = 7*8\n",
    "        self.to_supervised(data,n_input,n_out)\n",
    "\n",
    "    def to_supervised(self,data, n_input, n_out,):\n",
    "        # encode 输入\n",
    "        self.e_rain = []\n",
    "        self.e_environment = []\n",
    "        self.e_target = []\n",
    "        # decode 输入\n",
    "        self.d_rain = []\n",
    "        self.d_environment = []\n",
    "        self.d_target = []\n",
    "\n",
    "\n",
    "        for in_start in range(len(data)):\n",
    "            in_end = in_start + n_input\n",
    "            out_end = in_end + n_out\n",
    "            if out_end >= len(data):\n",
    "                break\n",
    "            self.e_rain.append(data[self.rain_cols].iloc[in_start:in_end].values)\n",
    "            self.e_environment.append(data[self.environment_cols].iloc[in_start:in_end].values)\n",
    "            self.e_target.append(data[self.target_cols].iloc[in_start:in_end].values)\n",
    "            # decode 输入\n",
    "            self.d_rain.append(data[self.rain_cols].iloc[in_end:out_end].values)\n",
    "            self.d_environment.append(data[self.environment_cols].iloc[in_end:out_end].values)\n",
    "            self.d_target.append(data[self.target_cols].iloc[in_end:out_end].values)\n",
    "            \n",
    "            if in_start>5:\n",
    "                break\n",
    "\n",
    "    \n",
    "        self.e_rain = np.array(self.e_rain) # (batch_size,n_input,feature_size)\n",
    "        self.e_environment = np.array(self.e_environment)\n",
    "        self.e_target = np.array(self.e_target)\n",
    "        # decode 输入\n",
    "        self.d_rain = np.array(self.d_rain) # (batch_size,n_out,feature_size)\n",
    "        self.d_environment = np.array(self.d_environment)\n",
    "        self.d_target = np.array(self.d_target)\n",
    "\n",
    "\n",
    "    def __len__(self):\n",
    "        return (self.e_target.shape[0])\n",
    "\n",
    "    def __getitem__(self, idx):\n",
    "        dct = {\n",
    "           'e_rain' : torch.tensor(self.e_rain[idx, :], dtype=torch.float),\n",
    "            'e_environment' : torch.tensor(self.e_environment[idx, :], dtype=torch.float),\n",
    "            'e_target': torch.tensor(self.e_target[idx, :], dtype=torch.float),\n",
    "            'd_rain' : torch.tensor(self.d_rain[idx, :], dtype=torch.float),\n",
    "            'd_environment' : torch.tensor(self.d_environment[idx, :], dtype=torch.float),\n",
    "            'd_target' : torch.tensor(self.d_target[idx, :], dtype=torch.float),\n",
    "\n",
    "        \n",
    "        }\n",
    "        return dct\n"
   ]
  },
  {
   "cell_type": "code",
   "execution_count": 34,
   "metadata": {},
   "outputs": [],
   "source": [
    "trainDataLoader= TrainDataLoader()"
   ]
  },
  {
   "cell_type": "code",
   "execution_count": 37,
   "metadata": {},
   "outputs": [
    {
     "name": "stdout",
     "output_type": "stream",
     "text": [
      "torch.Size([224, 1])\n"
     ]
    }
   ],
   "source": [
    "for data in trainDataLoader:\n",
    "    print(data['e_rain'].shape)\n",
    "    break"
   ]
  },
  {
   "cell_type": "code",
   "execution_count": 39,
   "metadata": {},
   "outputs": [
    {
     "data": {
      "text/plain": [
       "(2, 224, 1)"
      ]
     },
     "execution_count": 39,
     "metadata": {},
     "output_type": "execute_result"
    }
   ],
   "source": [
    "trainDataLoader.e_rain[[0,1]].shape"
   ]
  },
  {
   "cell_type": "code",
   "execution_count": null,
   "metadata": {},
   "outputs": [],
   "source": []
  },
  {
   "cell_type": "code",
   "execution_count": null,
   "metadata": {},
   "outputs": [],
   "source": []
  }
 ],
 "metadata": {
  "kernelspec": {
   "display_name": "Python 3",
   "language": "python",
   "name": "python3"
  },
  "language_info": {
   "codemirror_mode": {
    "name": "ipython",
    "version": 3
   },
   "file_extension": ".py",
   "mimetype": "text/x-python",
   "name": "python",
   "nbconvert_exporter": "python",
   "pygments_lexer": "ipython3",
   "version": "3.7.0"
  }
 },
 "nbformat": 4,
 "nbformat_minor": 2
}
