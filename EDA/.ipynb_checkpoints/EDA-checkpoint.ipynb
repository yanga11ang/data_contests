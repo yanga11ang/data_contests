{
 "cells": [
  {
   "cell_type": "markdown",
   "metadata": {},
   "source": [
    "# Exploratory Data Analysis (EDA)\n",
    "1.  好处：\n",
    "    - Better understand the data\n",
    "    - Build an intuition about the data\n",
    "    - Generate hypothesizes\n",
    "    - Find insinghts\n",
    "2.  Visualization\n",
    "    - 更好分析\n",
    "3.  Get domain knowledge\n",
    "    - 比赛涉及各种数据处理，不可能都有背景知识，但是如果有基础的背景知识能更好的理解数据\n",
    "    - 所以，首先简单的百度一下，背景知识。\n",
    "    - 其次，百度所有有意义的列名， 并对他们有理解，直到刻画的是什么。\n",
    "4.  check if the data is intuitive\n",
    "    - 查看数值是否和我们的理解一致，\n",
    "        - 数值过大或过小，比如年龄数值过大或者是负数等\n",
    "        - 有些列之间的约束关系不满足。\n",
    "    - 不一致时，如果不确定自己一定正确，可以到论坛，询问\n",
    "    - 如果自己时正确的，调整数据，最好手动，或根据理解动态修改。\n",
    "        - 有些错误，是处于某种逻辑，而不是随机的\n",
    "5.  understanding how the data was generated\n",
    "    - 发现train set 和 test set 的差别\n",
    "    - 能更好的理解数据\n",
    "    - 能够更好的修改上述4可能出现的问题。\n",
    "    - 不一致时，应该想办法补救。\n",
    "        - 构造和test set 一致的 validation set. 这样训练评分就是有价值的了。\n",
    "    "
   ]
  },
  {
   "cell_type": "markdown",
   "metadata": {},
   "source": [
    "### anonymized data\n",
    "1. what is anonymized data\n",
    "    - 内容脱敏，但给出列名，可能了公司的隐私内容\n",
    "    - 无意义的列名，内容正常\n",
    "    - 无意义的列名，内容也脱敏了\n",
    "2. 处理\n",
    "    - explore individual features\n",
    "        - 试着解密，也就是尝试猜测数据的意思，不一定能成功\n",
    "            - 有些数据是被normalization了。我们可以想办法反过来。\n",
    "            - 如果原先是整数的话，排序后间距是一定的，就可以缩放回去。\n",
    "            - 修正后，不是整数，可能有一个小数部分的偏移。\n",
    "            - 可以通过查找异常值，猜测整数部分的偏移。\n",
    "        - 一定能做到的是，guess the type of features\n",
    "            - 先查看数据类型，float， int， object\n",
    "            - 如果是object，value_count一下\n",
    "            - int的话进一步分析，categorical，还是numeric\n",
    "            - float，可以用上面的方法猜测，是连续还是离散。\n",
    "    - explore feature relations\n",
    "        - find relations between pairs\n",
    "        - find feature groups"
   ]
  },
  {
   "cell_type": "code",
   "execution_count": 2,
   "metadata": {},
   "outputs": [],
   "source": [
    "import pandas as pd\n",
    "import numpy as np"
   ]
  },
  {
   "cell_type": "code",
   "execution_count": 13,
   "metadata": {},
   "outputs": [],
   "source": [
    "data = pd.DataFrame({'a':[1,1,0,-1,-1]})\n",
    "feature = 'a'"
   ]
  },
  {
   "cell_type": "code",
   "execution_count": 15,
   "metadata": {},
   "outputs": [
    {
     "name": "stdout",
     "output_type": "stream",
     "text": [
      "count    5.0\n",
      "mean     0.0\n",
      "std      1.0\n",
      "min     -1.0\n",
      "25%     -1.0\n",
      "50%      0.0\n",
      "75%      1.0\n",
      "max      1.0\n",
      "Name: a, dtype: float64\n",
      "-1    2\n",
      " 1    2\n",
      " 0    1\n",
      "Name: a, dtype: int64\n"
     ]
    },
    {
     "data": {
      "text/plain": [
       "array([1, 1], dtype=int64)"
      ]
     },
     "execution_count": 15,
     "metadata": {},
     "output_type": "execute_result"
    }
   ],
   "source": [
    "# 解密猜测\n",
    "# 查看数据的分布\n",
    "print(data[feature].describe())\n",
    "# 查看原始数据是否可能是整数类型\n",
    "print(data[feature].value_counts().head())\n",
    "# 查看间距\n",
    "feature_unique = data[feature].unique()\n",
    "feature_unique_sorted = np.sort(feature_unique)\n",
    "np.diff(feature_unique_sorted) #计算 间距"
   ]
  },
  {
   "cell_type": "code",
   "execution_count": null,
   "metadata": {},
   "outputs": [],
   "source": [
    "# df.dtypes\n",
    "# df.info()\n",
    "# x.describe()\n",
    "# x.value_counts()\n",
    "# x.isnull()"
   ]
  },
  {
   "cell_type": "markdown",
   "metadata": {},
   "source": [
    "### Visualization\n",
    "1.  tools\n",
    "    - Histograms 直方图\n",
    "        - plt.hist(x)\n",
    "        - can confuse, 在某个bin堆积的数据可能不全等于这个值\n",
    "        - 可以发现异常值，或者说缺失值\n",
    "    - index on x axis，feature value on y axis\n",
    "        - plt.plot(x,'.')\n",
    "        - 每个值用一个点，表示\n",
    "        - 如果有横线，说明有些值重复出现\n",
    "        - 没有斜线，说明数据是被shuffled\n",
    "        - plt.scatter(range(len(x),x,c=y)\n",
    "        - 将数据按照label(其他类别特征y)排序后做图，并不同类画不同颜色。\n",
    "        - 可以看出不同类别下，x的分布。\n",
    "    - Feature statistics\n",
    "        - df.describe()\n",
    "        - x.mean()\n",
    "        - x.var()\n",
    "    - other tools: \n",
    "        - x.value_counts()\n",
    "        - x.isnull()\n",
    "2.  Exploring feature relations\n",
    "    - feature pair\n",
    "        - plt.scatter(x1,x2)\n",
    "        - 二维的图像，显示两个特征的关系\n",
    "        - 也可以将label加上，可以更好的区分，\n",
    "        - 如果train set, test set标上不同颜色，也可以查看分布。\n",
    "        - 可以根据图像的特点，做新的特征\n",
    "            - 在哪个聚类块\n",
    "            - 有某个函数约束，如x1<x2，可以做差值，或者比值。\n",
    "        - 可以用 pd.scatter_matrix(df),画出两两特征关系。\n",
    "        - 可以查看特征之间的相关性， df.corr(), plt.matshow(...)\n",
    "        - custom functions 自定义函数\n",
    "            - 可以计算，x1>x2的行数\n",
    "            - 可以计算，两个特征有多少种组合方式。\n",
    "        - 如果一团糟，可以用聚类处理一下。\n",
    "    - feature groups\n",
    "        - 画出各个特征的均值\n",
    "            - df.mean().sort_values().plot(style='.')\n",
    "            - x axis is feature name, y axis is feature mean\n",
    "            - 先求均值，再排序。\n",
    "            - 先求相关系数，再排序。"
   ]
  },
  {
   "cell_type": "markdown",
   "metadata": {},
   "source": [
    "### Database cleaning\n",
    "1. Duplicated and constant features\n",
    "    - constant on all data，因为主办方给出的是部分数据。\n",
    "        - traintest.nunique(axis=1) == 1\n",
    "    - constant value on train set, different values on test set\n",
    "        - 最好删除\n",
    "    - some values present only in the test set.\n",
    "        - 先验证这些values有没有作用\n",
    "        - 删除this feature, or create a seperate model with a new feature values\n",
    "    - 特征重复\n",
    "        - 有些numerical特征完全重复了\n",
    "            - 删一个\n",
    "        - 有些分类特征，类别名不同，但实质上重复了\n",
    "            - 画散点图可以发现\n",
    "            - 删一个\n",
    "    - duplicated row\n",
    "        - 训练集是否有重复行\n",
    "            - 可以删除重复\n",
    "        - train set，test set 有重复行。\n",
    "             - 思考为什么会重复\n",
    "             - 这些数据直接设置label。"
   ]
  },
  {
   "cell_type": "code",
   "execution_count": null,
   "metadata": {},
   "outputs": [],
   "source": []
  }
 ],
 "metadata": {
  "kernelspec": {
   "display_name": "Python 3",
   "language": "python",
   "name": "python3"
  },
  "language_info": {
   "codemirror_mode": {
    "name": "ipython",
    "version": 3
   },
   "file_extension": ".py",
   "mimetype": "text/x-python",
   "name": "python",
   "nbconvert_exporter": "python",
   "pygments_lexer": "ipython3",
   "version": "3.7.0"
  }
 },
 "nbformat": 4,
 "nbformat_minor": 2
}
